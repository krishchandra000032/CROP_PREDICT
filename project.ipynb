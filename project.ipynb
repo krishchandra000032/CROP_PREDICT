{
 "cells": [
  {
   "cell_type": "code",
   "execution_count": 2,
   "metadata": {},
   "outputs": [
    {
     "name": "stdout",
     "output_type": "stream",
     "text": [
      "Requirement already satisfied: pandas in /Library/Frameworks/Python.framework/Versions/3.13/lib/python3.13/site-packages (2.2.3)\n",
      "Requirement already satisfied: numpy>=1.26.0 in /Library/Frameworks/Python.framework/Versions/3.13/lib/python3.13/site-packages (from pandas) (2.2.0)\n",
      "Requirement already satisfied: python-dateutil>=2.8.2 in /Library/Frameworks/Python.framework/Versions/3.13/lib/python3.13/site-packages (from pandas) (2.9.0.post0)\n",
      "Requirement already satisfied: pytz>=2020.1 in /Library/Frameworks/Python.framework/Versions/3.13/lib/python3.13/site-packages (from pandas) (2024.2)\n",
      "Requirement already satisfied: tzdata>=2022.7 in /Library/Frameworks/Python.framework/Versions/3.13/lib/python3.13/site-packages (from pandas) (2024.2)\n",
      "Requirement already satisfied: six>=1.5 in /Library/Frameworks/Python.framework/Versions/3.13/lib/python3.13/site-packages (from python-dateutil>=2.8.2->pandas) (1.17.0)\n",
      "Note: you may need to restart the kernel to use updated packages.\n",
      "   ï»¿State_Name  Crop_Year    Area   Yield  Temperature  Precipitation  \\\n",
      "0  MadhyaPradesh       1997  598400  217000      24.2430        42.3484   \n",
      "1  MadhyaPradesh       1998  453200  227900      23.1000         8.7838   \n",
      "2  MadhyaPradesh       1999  498300  190900      22.8118        39.5078   \n",
      "3  MadhyaPradesh       2000  518700  160800      23.2746         9.2558   \n",
      "4  MadhyaPradesh       2001  528900  175000      23.5674         4.0668   \n",
      "\n",
      "   Humidity  Soil_type:_chalky  Soil_type:_clay  Soil_type:_loamy  ...  \\\n",
      "0      84.0                0.0              1.0               0.0  ...   \n",
      "1      70.0                0.0              0.0               0.0  ...   \n",
      "2      35.0                0.0              0.0               0.0  ...   \n",
      "3      33.0                0.0              1.0               0.0  ...   \n",
      "4      29.0                0.0              1.0               0.0  ...   \n",
      "\n",
      "   District:_REWA  District:_SAGAR  District:_SEHORE  District:_SHIVPURI  \\\n",
      "0             0.0              0.0               1.0                 0.0   \n",
      "1             0.0              0.0               1.0                 0.0   \n",
      "2             0.0              0.0               1.0                 0.0   \n",
      "3             0.0              0.0               1.0                 0.0   \n",
      "4             0.0              0.0               1.0                 0.0   \n",
      "\n",
      "   Crop:_Bajra  Crop:_Jowar  Crop:_Wheat  Season:_Kharif  Season:_Rabi  \\\n",
      "0          NaN          NaN          NaN             NaN           NaN   \n",
      "1          NaN          NaN          NaN             NaN           NaN   \n",
      "2          NaN          NaN          NaN             NaN           NaN   \n",
      "3          NaN          NaN          NaN             NaN           NaN   \n",
      "4          NaN          NaN          NaN             NaN           NaN   \n",
      "\n",
      "   Season:_Rabi         \n",
      "0                  NaN  \n",
      "1                  NaN  \n",
      "2                  NaN  \n",
      "3                  NaN  \n",
      "4                  NaN  \n",
      "\n",
      "[5 rows x 56 columns]\n"
     ]
    }
   ],
   "source": [
    "%pip install pandas\n",
    "import pandas as pd\n",
    "\n",
    "# Load your dataset (example)\n",
    "df = pd.read_csv('Final_data.csv')\n",
    "print(df.head())\n",
    "\n",
    "# Preprocess data (handle missing values, encode categorical data, etc.)\n"
   ]
  },
  {
   "cell_type": "code",
   "execution_count": 5,
   "metadata": {},
   "outputs": [
    {
     "name": "stdout",
     "output_type": "stream",
     "text": [
      "Model accuracy: 0.750882167781569\n"
     ]
    }
   ],
   "source": [
    "from sklearn.model_selection import train_test_split\n",
    "from sklearn.linear_model import LinearRegression\n",
    "\n",
    "# X = Features\n",
    "# Y = Target variable\n",
    "X = df[['Area', 'Precipitation', 'Temperature', 'Humidity', 'Soil_type:_chalky', 'Soil_type:_clay', 'Soil_type:_loamy']]  \n",
    "y = df['Yield'] \n",
    "\n",
    "# Split data into train and test sets\n",
    "X_train, X_test, y_train, y_test = train_test_split(X, y, test_size=0.2)\n",
    "\n",
    "# Train the model\n",
    "model = LinearRegression()\n",
    "model.fit(X_train, y_train)\n",
    "\n",
    "# Evaluate the model\n",
    "print('Model accuracy:', model.score(X_test, y_test))\n"
   ]
  },
  {
   "cell_type": "code",
   "execution_count": null,
   "metadata": {},
   "outputs": [],
   "source": []
  }
 ],
 "metadata": {
  "kernelspec": {
   "display_name": "Python 3",
   "language": "python",
   "name": "python3"
  },
  "language_info": {
   "codemirror_mode": {
    "name": "ipython",
    "version": 3
   },
   "file_extension": ".py",
   "mimetype": "text/x-python",
   "name": "python",
   "nbconvert_exporter": "python",
   "pygments_lexer": "ipython3",
   "version": "3.13.1"
  }
 },
 "nbformat": 4,
 "nbformat_minor": 2
}
